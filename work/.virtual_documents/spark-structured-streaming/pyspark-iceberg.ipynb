get_ipython().run_line_magic("SparkSession", "")


from pyspark.sql import SparkSession

spark = SparkSession \
    .builder \
    .appName("SparkSession-Iceberg") \
    .config("spark.jars.packages", "org.apache.iceberg:iceberg-spark-runtime-3.2_2.12:1.3.0") \
    .config("spark.sql.extensions", "org.apache.iceberg.spark.extensions.IcebergSparkSessionExtensions") \
    .config("spark.sql.catalog.iceberg", "org.apache.iceberg.spark.SparkCatalog") \
    .config("spark.sql.catalog.iceberg.type", "hive") \
    .config("spark.sql.catalog.iceberg.uri", "thrift://hive-metastore:9083") \
    .config("spark.executor.cores", "1") \
    .config("spark.executor.memory", "1g") \
    .config("spark.executor.instances", "1") \
    .enableHiveSupport() \
    .getOrCreate()

spark


df = spark.read.csv("s3a://kevin/combined_financial_data_idx.csv", header=True, inferSchema=True)


df.show()


df.write \
    .format("parquet") \
    .mode("overwrite") \
    .saveAsTable("default.test_table_3")


spark.stop()




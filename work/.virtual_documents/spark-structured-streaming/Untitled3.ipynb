get_ipython().run_line_magic("SparkSession", "")


from pyspark.sql import SparkSession

spark = SparkSession \
    .builder \
    .appName("SparkSession-Iceberg") \
    .config("spark.jars.packages", "org.apache.iceberg:iceberg-spark-runtime-3.2_2.12:1.3.0") \
    .config("spark.sql.extensions", "org.apache.iceberg.spark.extensions.IcebergSparkSessionExtensions") \
    .config("spark.sql.catalog.iceberg", "org.apache.iceberg.spark.SparkCatalog") \
    .config("spark.sql.catalog.iceberg.type", "hive") \
    .config("spark.sql.catalog.iceberg.uri", "thrift://hive-metastore:9083") \
    .getOrCreate()

spark

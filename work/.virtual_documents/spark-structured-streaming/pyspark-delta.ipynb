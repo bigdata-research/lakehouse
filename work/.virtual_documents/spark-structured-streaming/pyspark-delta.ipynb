get_ipython().run_line_magic("SparkSession", "")


from pyspark.sql import SparkSession

spark = SparkSession \
    .builder \
    .appName("SparkSession-Delta") \
    .config("spark.jars.packages", "io.delta:delta-core_2.12:2.4.0") \
    .config("spark.sql.extensions", "io.delta.sql.DeltaSparkSessionExtension") \
    .config("spark.sql.catalog.spark_catalog", "org.apache.spark.sql.delta.catalog.DeltaCatalog") \
    .config("spark.executor.cores", "1") \
    .config("spark.executor.memory", "1g") \
    .config("spark.executor.instances", "1") \
    .enableHiveSupport() \
    .getOrCreate()

spark


df = spark.read.csv("s3a://kevin/combined_financial_data_idx.csv", header=True, inferSchema=True)


df.show()


df.write.format("delta").mode("append").save("default.sample_delta_tbl")


spark.stop()


spark.sql("SHOW TABLES").show()


spark.stop()
